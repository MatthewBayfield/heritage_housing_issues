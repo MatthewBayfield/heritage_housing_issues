{
  "cells": [
    {
      "attachments": {},
      "cell_type": "markdown",
      "metadata": {
        "id": "0aStgWSO0E0E"
      },
      "source": [
        "# **EDA of the proposed significant features for predicting sale price**"
      ]
    },
    {
      "attachments": {},
      "cell_type": "markdown",
      "metadata": {
        "id": "1eLEkw5O0ECa"
      },
      "source": [
        "## Objectives\n",
        "\n",
        "**Perform Business requirement 2 user story task: EDA**\n",
        "* Analyse the most significant features in predicting the target, as selected during the sale price correlation study: study feature distributions, assess normality, and check correlations between features.\n",
        "\n",
        "\n",
        "\n",
        "## Inputs\n",
        "\n",
        "* cleaned house prices sale price correlation study dataset: outputs/datasets/sale_price_study/cleaned/house_prices.csv\n",
        "\n",
        "## Outputs\n",
        "\n"
      ]
    },
    {
      "cell_type": "markdown",
      "metadata": {
        "id": "9uWZXH9LwoQg"
      },
      "source": [
        "---"
      ]
    },
    {
      "attachments": {},
      "cell_type": "markdown",
      "metadata": {
        "id": "cqP-UeN-z3i2"
      },
      "source": [
        "## Change working directory"
      ]
    },
    {
      "attachments": {},
      "cell_type": "markdown",
      "metadata": {
        "id": "aOGIGS-uz3i2"
      },
      "source": [
        "Working directory changed to its parent folder."
      ]
    },
    {
      "cell_type": "code",
      "execution_count": null,
      "metadata": {
        "id": "wZfF_j-Bz3i4",
        "outputId": "66943449-1436-4c3d-85c7-b85f9f78349b"
      },
      "outputs": [],
      "source": [
        "import os\n",
        "current_dir = os.getcwd()\n",
        "current_dir"
      ]
    },
    {
      "cell_type": "code",
      "execution_count": null,
      "metadata": {
        "id": "TwHsQRWjz3i9",
        "outputId": "86849db3-cd2f-4cc5-ebb8-2d0caafa1a2c"
      },
      "outputs": [],
      "source": [
        "os.chdir(os.path.dirname(current_dir))\n",
        "os.getcwd()"
      ]
    },
    {
      "attachments": {},
      "cell_type": "markdown",
      "metadata": {},
      "source": [
        "---"
      ]
    },
    {
      "attachments": {},
      "cell_type": "markdown",
      "metadata": {
        "id": "-mavJ8DibrcQ"
      },
      "source": [
        "## Load modified house prices dataset"
      ]
    },
    {
      "cell_type": "code",
      "execution_count": null,
      "metadata": {},
      "outputs": [],
      "source": [
        "import pandas as pd\n",
        "\n",
        "house_prices_df = pd.read_csv(filepath_or_buffer='outputs/datasets/sale_price_study/cleaned/house_prices.csv')\n",
        "house_prices_df.dtypes"
      ]
    },
    {
      "cell_type": "markdown",
      "metadata": {
        "id": "ZY3l0-AxO93d"
      },
      "source": [
        "---"
      ]
    },
    {
      "attachments": {},
      "cell_type": "markdown",
      "metadata": {},
      "source": [
        "## Feature distribution analysis"
      ]
    },
    {
      "attachments": {},
      "cell_type": "markdown",
      "metadata": {},
      "source": [
        "**Pandas profiling report**"
      ]
    },
    {
      "attachments": {},
      "cell_type": "markdown",
      "metadata": {},
      "source": [
        "Load list of selected significant features:"
      ]
    },
    {
      "cell_type": "code",
      "execution_count": null,
      "metadata": {},
      "outputs": [],
      "source": [
        "import joblib\n",
        "\n",
        "selected_significant_features = joblib.load('outputs/selected_significant_features.pkl')\n",
        "selected_significant_features"
      ]
    },
    {
      "cell_type": "code",
      "execution_count": null,
      "metadata": {},
      "outputs": [],
      "source": [
        "import numpy as np\n",
        "from pandas_profiling import ProfileReport\n",
        "\n",
        "significant_feature_df = house_prices_df[selected_significant_features + ['SalePrice']]\n"
      ]
    },
    {
      "cell_type": "code",
      "execution_count": null,
      "metadata": {},
      "outputs": [],
      "source": [
        "feature_profiles = ProfileReport(significant_feature_df, title='Feature statistics', minimal=True)"
      ]
    },
    {
      "cell_type": "code",
      "execution_count": null,
      "metadata": {},
      "outputs": [],
      "source": [
        "feature_profiles.to_notebook_iframe()"
      ]
    },
    {
      "attachments": {},
      "cell_type": "markdown",
      "metadata": {},
      "source": [
        "### Normality tests for continuous numeric features"
      ]
    },
    {
      "attachments": {},
      "cell_type": "markdown",
      "metadata": {},
      "source": [
        "**Shapiro-Wilk test**:"
      ]
    },
    {
      "cell_type": "code",
      "execution_count": null,
      "metadata": {},
      "outputs": [],
      "source": [
        "import pingouin as pg\n",
        "\n",
        "continuous_numeric_features = ['1stFlrSF', '2ndFlrSF', 'BsmtFinSF1', 'GarageArea', 'GrLivArea',\n",
        "                               'LotArea',\n",
        "                               'LotFrontage',\n",
        "                               'MasVnrArea',\n",
        "                               'OpenPorchSF',\n",
        "                               'TotalBsmtSF',]\n",
        "# alpha = 0.05\n",
        "pg.normality(house_prices_df[continuous_numeric_features])"
      ]
    },
    {
      "attachments": {},
      "cell_type": "markdown",
      "metadata": {},
      "source": [
        "**QQ plots**:"
      ]
    },
    {
      "cell_type": "code",
      "execution_count": null,
      "metadata": {},
      "outputs": [],
      "source": [
        "import matplotlib.pyplot as plt\n",
        "import seaborn as sns\n",
        "\n",
        "def create_plot_array(df, kind, features):\n",
        "    \"\"\"\n",
        "    Creates array of box or qq plots of shape (no.of.features, 3), for a subset of features in a provided dataframe.\n",
        "\n",
        "    Args:\n",
        "        df: dataframe.\n",
        "        kind: either 'box' or 'qqplot'.\n",
        "        features: valid subset of the columns in df.\n",
        "    \"\"\"\n",
        "    for feature in features:\n",
        "        feature_index = features.index(feature)\n",
        "        if feature_index % 3 == 0:\n",
        "            fig = plt.figure(figsize=(15,5), tight_layout=True)\n",
        "            features_left = len(features) - feature_index\n",
        "            if features_left >= 3:\n",
        "                axes = fig.subplots(ncols=3)\n",
        "            else:\n",
        "                if features_left != 0:\n",
        "                    axes = fig.subplots(ncols=features_left)\n",
        "                    fig.set_size_inches(5*features_left, 5)\n",
        "                    \n",
        "                else:\n",
        "                    return\n",
        "            \n",
        "            for index in [0, 1, 2]:\n",
        "                ax = axes[index] if (features_left > 1) else axes\n",
        "                try:\n",
        "                    if kind == 'qqplot':\n",
        "                        qq_plot = pg.qqplot(x=df[features[feature_index + index]], ax=ax)\n",
        "                        qq_plot.set(title=features[feature_index + index])\n",
        "                        fig.add_axes(qq_plot)\n",
        "                    elif kind == 'box':\n",
        "                        box_plot = sns.boxplot(x=df[features[feature_index + index]], ax=ax)\n",
        "                        box_plot.set(title=features[feature_index + index])\n",
        "                        fig.add_axes(box_plot)\n",
        "                    else:\n",
        "                        print(\"kind must be one of ['box', 'qqplot']\")\n",
        "                        return\n",
        "                except:\n",
        "                    return"
      ]
    },
    {
      "cell_type": "code",
      "execution_count": null,
      "metadata": {},
      "outputs": [],
      "source": [
        "create_plot_array(df=house_prices_df, kind='qqplot', features=continuous_numeric_features)"
      ]
    },
    {
      "attachments": {},
      "cell_type": "markdown",
      "metadata": {},
      "source": [
        "### Outlier assessment for numeric features: Box plots"
      ]
    },
    {
      "cell_type": "code",
      "execution_count": null,
      "metadata": {},
      "outputs": [],
      "source": [
        "create_plot_array(df=house_prices_df, kind='box', features=continuous_numeric_features)"
      ]
    },
    {
      "attachments": {},
      "cell_type": "markdown",
      "metadata": {},
      "source": [
        "## Discussion"
      ]
    },
    {
      "attachments": {},
      "cell_type": "markdown",
      "metadata": {},
      "source": [
        "**Comments by variable**:"
      ]
    },
    {
      "attachments": {},
      "cell_type": "markdown",
      "metadata": {},
      "source": [
        "**1stFlrSF**:\n",
        "\n",
        "General:\n",
        "\n",
        "* The distribution has an extended central region with a fairly sharp drop-off, particulary for smaller values: mean/median ~ 1100SF, 50% 882-1400SF, 90% 670-1800SF; very large positive kurtosis.\n",
        "* The very large range is a consequence of possible outliers/extreme values.\n",
        "* Consequence of the extended central region is a moderate amount of dispersion about the mean: 33% CV.\n",
        "* There is a broad peak close to the median/mean.\n",
        "\n",
        "Normality:\n",
        "\n",
        "* It has a moderate positive skew, with likely outliers contributing to this. Q3 - median > median - Q2. Max - Q3 >> Q1 - min.\n",
        "* A very large positive kurtosis as a result of the extended central region and the presence of possible outliers.\n",
        "* The moderate skew and large kurtosis are evidenced by the histogram plot.\n",
        "* The QQ plot indicates positive skew.\n",
        "* The Shaprio-Wilk test indicates the distribution is not normal.\n",
        "\n",
        "Outliers:\n",
        "\n",
        "* The box plot suggests multiple outliers (IQR method) outside the main central region. It also illustrates the positive skew."
      ]
    },
    {
      "attachments": {},
      "cell_type": "markdown",
      "metadata": {},
      "source": [
        "**2ndFlrSF**:\n",
        "\n",
        "General:\n",
        "\n",
        "* Most houses do not have a 2nd floor: >50%.\n",
        "* The distribution stats heavily influenced by these zero data.\n",
        "* Even if you ignore the zero data, there is significant dispersion in the rest of the distribution, with an extremely broad peak.\n",
        "\n",
        "Normality:\n",
        "\n",
        "* With the large number of zero data the distribution is clearly not normal. However even in the absence of these zero data the distribution would be flatter/broader than the normal distribution when looking at the histogram.\n",
        "* Unsurpringly the QQ plot shows the significant deviation from normal at the left tail, and the Shapiro-Wilk test indicates non-normalilty.\n",
        "\n",
        "Outliers:\n",
        "\n",
        "* It's difficult to say whether the indicated points on the box plot are actually outliers, or if there are actually more outliers, because of how it is skewed due to the zero data.\n",
        "\n",
        "\n"
      ]
    },
    {
      "attachments": {},
      "cell_type": "markdown",
      "metadata": {},
      "source": [
        "**BsmtFinSF1**:\n",
        "\n",
        "General:\n",
        "\n",
        "* Similar to '2ndFlrSF', large portion of zero data: 32%. Again skews statistics.\n",
        "* Distribution is quite dispersed: large kurtosis. This is likely impacted by the 32% zero data shifting the mean/median, but also likely because of an extended tail at higher values.\n",
        "* Large bulk of the data is within two SD's of the mean/median, and the most frequent bins are adjacent to the zero data.\n",
        "\n",
        "Normality:\n",
        "\n",
        "* Small positive skew value, also seen in the histogram and box plot.\n",
        "* Distribution is not visibly normal from the histogram.\n",
        "* The QQ plot indicates a positive skew, and shows the deviation from normality caused by the very high frequency of same zero data value.\n",
        "* The Shaprio-Wilk test indicates the distribution is not normal.\n",
        "\n",
        "Outliers:\n",
        "\n",
        "* The box plot indicates a few potential outliers, one in particular is clearly more extreme. The other possible outliers are not far from the upper whisker limit, and may not be outliers if the portion of zero data in the sample were slightly less."
      ]
    },
    {
      "attachments": {},
      "cell_type": "markdown",
      "metadata": {},
      "source": [
        "**GarageArea**:\n",
        "\n",
        "General:\n",
        "\n",
        "* Moderate central peak/region: 90% of data between 0-850 ~ ± 2 SD region; IQR=241.5 ~ 1 SD; CV < 0.5*mean.\n",
        "* Many less common values at higher values. Isolated portion of zero values (5.5%).\n",
        "\n",
        "Normality:\n",
        "\n",
        "* Small positive skew value. Histogram shows a longer tail to the right, but left of centre there are more values in a few bins, and also there is the large zero portion that collectively counteract any large positive skew. The box plot also shows that there is more data between Q1 and Q2 than Q2 and Q3, but there are values at more extreme higher values.\n",
        "* Small-to-moderate kurtosis value.\n",
        "* The QQ plot indicates more dispersion than the normal distribution, despite reasonable agreement in the central region.\n",
        "* The Shaprio-Wilk test indicates the distribution is not normal.\n",
        "* Relative to other features, it approximates a normal distribution to a larger degree.\n",
        "\n",
        "Outliers:\n",
        "\n",
        "* The box plot indicates three possible small groups of outliers that differ in their extremity.\n"
      ]
    },
    {
      "attachments": {},
      "cell_type": "markdown",
      "metadata": {},
      "source": [
        "**GarageLivArea**:\n",
        "\n",
        "General:\n",
        "\n",
        "* Somewhat uniform broad central region: Q2 - Q1 ~ Q3 - Q2; IQR=647; CV=0.3.\n",
        "* Long right tail of lower frequency values: 5% of data between 2466 - 5642 vs Q3 ~ 1776.\n",
        "\n",
        "Normality:\n",
        "\n",
        "* Moderate positive skew value, supported by the histogram.\n",
        "* The QQ plot indicates noticeable positive skew.\n",
        "* Very large kurtosis value, expected from the histogram.\n",
        "* The Shaprio-Wilk test indicates the distribution is not normal.\n",
        "\n",
        "Outliers:\n",
        "\n",
        "* The box plot indicates multiple outliers."
      ]
    },
    {
      "attachments": {},
      "cell_type": "markdown",
      "metadata": {},
      "source": [
        "**LotArea**:\n",
        "\n",
        "General:\n",
        "\n",
        "* Narrow central region (1 bins width) with the majority of data (~40%). Also IQR=4048 ~ 0.5SD, CV=0.9. Also supported by the box plot.\n",
        "* Extended low frequency right tail.\n",
        "* Very large range.\n",
        "\n",
        "Normality:\n",
        "\n",
        "* Median is similar to mean indicating some symmetry/normality.\n",
        "* Very large positive skew and kurtosis values.\n",
        "* The QQ plot indicates large positive skew and large dispersion, relative to a normal distribution.\n",
        "* The Shaprio-Wilk test indicates the distribution is not normal.\n",
        "\n",
        "\n",
        "Outliers:\n",
        "\n",
        "* From the box plot there appears to be numerous outliers, a few much more extreme than the rest."
      ]
    },
    {
      "attachments": {},
      "cell_type": "markdown",
      "metadata": {},
      "source": [
        "**LotFrontage**:\n",
        "\n",
        "General:\n",
        "\n",
        "* Fairly symmetric distribution centrally (mean ~ median), albeit a moderately long right tail.\n",
        "* Range is dictated by a single very extreme value.\n",
        "* Fairly compact distribution: 90% between 35 - 107, IQR=21.6, CV ~ 0.3.\n",
        "\n",
        "Normality:\n",
        "* Very large positive kurtosis value. Moderate positive skew value, also evident in the QQ plot.\n",
        "* The Shaprio-Wilk test indicates the distribution is not normal.\n",
        "\n",
        "Outliers:\n",
        "\n",
        "* From the box plot there appears to be numerous outliers, a one far more extreme than the rest."
      ]
    },
    {
      "attachments": {},
      "cell_type": "markdown",
      "metadata": {},
      "source": [
        "**MasVnrArea**:\n",
        "\n",
        "General:\n",
        "\n",
        "* 59% zero data. Dominates stats.\n",
        "* Still appears to be large dispersion, and extended right tail.\n",
        "\n",
        "Normality:\n",
        "\n",
        "* Very large positive skew and kurtosis values.\n",
        "* The QQ plot suggests positive skew.\n",
        "* The Shaprio-Wilk test indicates the distribution is not normal.\n",
        "\n",
        "Outliers:\n",
        "\n",
        "* From the box plot there appears to be numerous outliers."
      ]
    },
    {
      "attachments": {},
      "cell_type": "markdown",
      "metadata": {},
      "source": [
        "**OpenPorchSF**:\n",
        "\n",
        "General:\n",
        "\n",
        "* Very similar to the 'MasVnrArea' distribution.\n",
        "* 45% zero data.\n",
        "\n",
        "Normality:\n",
        "* The histogram does not look normal.\n",
        "* Large positive skew value. Very large positive kurtosis value. Box plot supports this, can clearly see Q3 - Q2 > Q2 - Q1.\n",
        "* The QQ plot is similar to that for the 'MasVnrArea': positive skew indicated.\n",
        "* The Shaprio-Wilk test indicates the distribution is not normal.\n",
        "\n",
        "Outliers:\n",
        "\n",
        "* From the box plot there appears to be numerous outliers, three in particular are very extreme. "
      ]
    },
    {
      "attachments": {},
      "cell_type": "markdown",
      "metadata": {},
      "source": [
        "**TotalBsmtSF**:\n",
        "\n",
        "General:\n",
        "\n",
        "* Moderate width central region.\n",
        "* Moderately long right tail.\n",
        "* Moderate dispersion: CV=0.4.\n",
        "\n",
        "Normality:\n",
        "\n",
        "* Moderate positive skew, large positive kurtosis.\n",
        "* The QQ plot suggests positive skew, and more dispersion relative to a normal distribution.\n",
        "* The Shaprio-Wilk test indicates the distribution is not normal.\n",
        "\n",
        "Outliers:\n",
        "\n",
        "* The box plot shows some outliers, one in particular stands out with regard to how far above the upper limit whisker it is."
      ]
    },
    {
      "attachments": {},
      "cell_type": "markdown",
      "metadata": {},
      "source": [
        "**GarageFinish**:\n",
        "\n",
        "* Fairly even distribution between finished and some sort of unfinshed rating.\n",
        "* The 'None' value (73) may be inconsistent with the number of zeros in the GarageArea (81). This may be a by-product of previous missing value imputation."
      ]
    },
    {
      "attachments": {},
      "cell_type": "markdown",
      "metadata": {},
      "source": [
        "**GarageYrBlt** and **YearBuilt**:\n",
        "\n",
        "* Of course these features are related as most garages are built with the house. This is reflected in the similarity of the distributions.\n",
        "* Each distribution has the highest frequency post the year 2000. Lowest frequency around 1900, that increases smoothly up until 1965, before decreasing until 1975, before increasing again.\n",
        "* This is reflected in the median of 1973/1978, indicating that as many houses/garages have been built after 1973/1978 than before, despite the shorter period.\n",
        "* There is also a slight negative skew and slight negative kurtosis as a result of the trend in building rates.\n",
        "* In the context of the dataset, there is a fairly large range."
      ]
    },
    {
      "attachments": {},
      "cell_type": "markdown",
      "metadata": {},
      "source": [
        "**YearRemodAdd**:\n",
        "\n",
        "* Again you would expect some overlap with the feature 'YearBuilt', since houses that have not been remodeled, nominally have a value equal to their year built. This is\n",
        "reflected in the distribution to some extent.\n",
        "* However that being said, the most houses were remodeled around 1950, decreasing after, and being somewhat uniform up until the year 2000, where the count increases again.\n",
        "* Again there is slight increase in average rate post 2000: median 1994 (of course there are more houses over time that could be remodeled).\n",
        "* Also consequently have a long tail and negative skew.\n",
        "* There is a risk that the houses not remodeled having a nominal value in the dataset, could distort the distribution."
      ]
    },
    {
      "attachments": {},
      "cell_type": "markdown",
      "metadata": {},
      "source": [
        "**KitchenQual**:\n",
        "\n",
        "* Vast majority of instances have a rating of typical or good (90%)."
      ]
    },
    {
      "attachments": {},
      "cell_type": "markdown",
      "metadata": {},
      "source": [
        "**OverallQual**:\n",
        "\n",
        "* Broad peak falling off quickly and symmetrically: 90% between below-average and very good; median/mean: above average; IQR=2 and so 50% between average and good."
      ]
    }
  ],
  "metadata": {
    "accelerator": "GPU",
    "colab": {
      "name": "Data Practitioner Jupyter Notebook.ipynb",
      "provenance": [],
      "toc_visible": true
    },
    "kernelspec": {
      "display_name": "Python 3",
      "language": "python",
      "name": "python3"
    },
    "language_info": {
      "codemirror_mode": {
        "name": "ipython",
        "version": 3
      },
      "file_extension": ".py",
      "mimetype": "text/x-python",
      "name": "python",
      "nbconvert_exporter": "python",
      "pygments_lexer": "ipython3",
      "version": "3.8.12"
    },
    "orig_nbformat": 2,
    "vscode": {
      "interpreter": {
        "hash": "8b8334dab9339717f727a1deaf837b322d7a41c20d15cc86be99a8e69ceec8ce"
      }
    }
  },
  "nbformat": 4,
  "nbformat_minor": 2
}

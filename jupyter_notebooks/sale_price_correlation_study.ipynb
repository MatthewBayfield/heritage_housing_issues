{
  "cells": [
    {
      "attachments": {},
      "cell_type": "markdown",
      "metadata": {
        "id": "0aStgWSO0E0E"
      },
      "source": [
        "# **How house attributes influence the sale price**"
      ]
    },
    {
      "attachments": {},
      "cell_type": "markdown",
      "metadata": {
        "id": "1eLEkw5O0ECa"
      },
      "source": [
        "## Objectives\n",
        "\n",
        "**Generate content to satisfy Business requirement 1**:\n",
        "* Determine how features are correlated to the target, and thus their significance in determining the sale price.\n",
        "\n",
        "## Inputs\n",
        "\n",
        "* house prices dataset: outputs/datasets/collection/house_prices.csv\n",
        "\n",
        "## Outputs\n",
        "\n",
        "\n",
        "## Conclusions\n"
      ]
    },
    {
      "cell_type": "markdown",
      "metadata": {
        "id": "9uWZXH9LwoQg"
      },
      "source": [
        "---"
      ]
    },
    {
      "attachments": {},
      "cell_type": "markdown",
      "metadata": {
        "id": "cqP-UeN-z3i2"
      },
      "source": [
        "## Change working directory"
      ]
    },
    {
      "attachments": {},
      "cell_type": "markdown",
      "metadata": {
        "id": "aOGIGS-uz3i2"
      },
      "source": [
        "Working directory changed to its parent folder."
      ]
    },
    {
      "cell_type": "code",
      "execution_count": null,
      "metadata": {
        "id": "wZfF_j-Bz3i4",
        "outputId": "66943449-1436-4c3d-85c7-b85f9f78349b"
      },
      "outputs": [],
      "source": [
        "import os\n",
        "current_dir = os.getcwd()\n",
        "current_dir"
      ]
    },
    {
      "cell_type": "code",
      "execution_count": null,
      "metadata": {
        "id": "TwHsQRWjz3i9",
        "outputId": "86849db3-cd2f-4cc5-ebb8-2d0caafa1a2c"
      },
      "outputs": [],
      "source": [
        "os.chdir(os.path.dirname(current_dir))\n",
        "os.getcwd()"
      ]
    },
    {
      "attachments": {},
      "cell_type": "markdown",
      "metadata": {},
      "source": [
        "---"
      ]
    },
    {
      "attachments": {},
      "cell_type": "markdown",
      "metadata": {
        "id": "-mavJ8DibrcQ"
      },
      "source": [
        "## Load house prices dataset"
      ]
    },
    {
      "cell_type": "code",
      "execution_count": null,
      "metadata": {},
      "outputs": [],
      "source": [
        "import pandas as pd\n",
        "\n",
        "house_prices_df = pd.read_csv(filepath_or_buffer='outputs/datasets/collection/house_prices.csv')\n",
        "house_prices_df.dtypes"
      ]
    },
    {
      "cell_type": "markdown",
      "metadata": {
        "id": "ZY3l0-AxO93d"
      },
      "source": [
        "---"
      ]
    },
    {
      "attachments": {},
      "cell_type": "markdown",
      "metadata": {},
      "source": [
        "## Dealing with missing data"
      ]
    },
    {
      "attachments": {},
      "cell_type": "markdown",
      "metadata": {},
      "source": [
        "Discover columns with missing data"
      ]
    },
    {
      "cell_type": "code",
      "execution_count": null,
      "metadata": {},
      "outputs": [],
      "source": [
        "missing_data_df = house_prices_df.loc[:, house_prices_df.isna().any()]\n",
        "print(missing_data_df.info())\n",
        "house_prices_numeric_df = house_prices_df.select_dtypes(exclude=['object']).drop(['SalePrice'], axis=1)\n",
        "print(house_prices_numeric_df.columns)\n",
        "house_prices_non_numeric_df = house_prices_df.select_dtypes(include='object')\n",
        "house_prices_non_numeric_df.columns\n"
      ]
    },
    {
      "attachments": {},
      "cell_type": "markdown",
      "metadata": {},
      "source": [
        "**Impute missing values in numeric columns**.  \n",
        "Want to choose an impute method that does not distort the distribution significantly, whilst preserving any existing correlations.\n",
        "With this in mind the KNNImputer is employed with 5 nearest neighbours used."
      ]
    },
    {
      "cell_type": "code",
      "execution_count": null,
      "metadata": {},
      "outputs": [],
      "source": [
        "from sklearn.impute import KNNImputer\n",
        "import seaborn as sns\n",
        "import matplotlib.pyplot as plt\n",
        "\n",
        "# plotting distributions for numeric variables with missing data\n",
        "counter = 0\n",
        "imputed_columns = []\n",
        "while counter < len(house_prices_numeric_df.columns):\n",
        "    if house_prices_numeric_df.iloc[:, counter].name in missing_data_df.columns:\n",
        "        fig, ax = plt.subplots(ncols=2, nrows=1, figsize=(10,4))\n",
        "        sns.histplot(x=house_prices_numeric_df.iloc[:, counter], ax=ax[0])\n",
        "        imputed_columns.append(house_prices_numeric_df.iloc[:, counter].name)\n",
        "    counter += 1\n",
        "\n",
        "# Imputing the missing values for required columns\n",
        "imputer = KNNImputer()\n",
        "imputer.set_output(transform='pandas')\n",
        "house_prices_numeric_df = imputer.fit_transform(house_prices_numeric_df)\n",
        "print(house_prices_numeric_df.isna().sum())\n",
        "house_prices_df[house_prices_numeric_df.columns.values] = house_prices_numeric_df\n",
        "\n",
        "for col in ['BedroomAbvGr','GarageYrBlt','OverallCond','OverallQual','YearBuilt', 'YearRemodAdd']:\n",
        "    house_prices_numeric_df[col] = house_prices_numeric_df[col].round()\n",
        "\n",
        "# plotting distributions after imputation on same figures, for visual comparison\n",
        "for fig in plt.get_fignums():\n",
        "    sns.histplot(x=house_prices_numeric_df[imputed_columns[fig - 1]], ax=plt.figure(fig).get_axes()[1])\n"
      ]
    },
    {
      "attachments": {},
      "cell_type": "markdown",
      "metadata": {},
      "source": [
        "Inspection of the above figures showing the variable distributions before and after imputation, shows that apart from the 'EnclosedPorchSF' and 'WoodDeckSF' variables,\n",
        "there is no noticeable change to the distribution shapes. In the case of the EnclosedPorchSF variable, a large quantity of data was missing,\n",
        "so the somewhat noticeable change is inevitable; the same is true for the WoodDeckSF variable."
      ]
    },
    {
      "attachments": {},
      "cell_type": "markdown",
      "metadata": {},
      "source": [
        "**Impute missing values in non-numeric columns**.  \n",
        "In the absence of a viable distance metric, and considering the fact that only a small amount of data is missing, the KNNImputer was not used. Instead the more\n",
        "simple method for filling the values by cycling through the possible values was used."
      ]
    },
    {
      "cell_type": "code",
      "execution_count": null,
      "metadata": {},
      "outputs": [],
      "source": [
        "missing_data_non_numeric_df = missing_data_df.select_dtypes(include='object')\n",
        "print(missing_data_non_numeric_df.columns)\n",
        "\n",
        "# plotting the variable distributions before imputation\n",
        "counter = 0\n",
        "imputed_columns = []\n",
        "while counter < len(missing_data_non_numeric_df.columns):\n",
        "    fig, ax = plt.subplots(ncols=2, nrows=1, figsize=(10,4))\n",
        "    sns.countplot(x=missing_data_non_numeric_df.iloc[:, counter], ax=ax[0])\n",
        "    imputed_columns.append(missing_data_non_numeric_df.iloc[:, counter].name)\n",
        "    counter += 1\n",
        "\n",
        "# imputing the missing values\n",
        "for col in imputed_columns:\n",
        "    number_of_nans = house_prices_df[col].loc[(house_prices_df[col].isna() == True)].size\n",
        "    unique_values = house_prices_df[col].unique()\n",
        "    index_no = 0\n",
        "    while number_of_nans > 0:\n",
        "        if index_no + 1 >= unique_values.size:\n",
        "            index_no = 0\n",
        "        house_prices_df[col].fillna(value=unique_values[index_no], limit=1, inplace=True)\n",
        "        index_no += 1\n",
        "        number_of_nans = house_prices_df[col].loc[(house_prices_df[col].isna() == True)].size\n",
        "\n",
        "# plotting the distributions on the same figures after imputation for comparison\n",
        "for fig in plt.get_fignums():\n",
        "    sns.countplot(x=house_prices_df[imputed_columns[fig - 1]], ax=plt.figure(fig).get_axes()[1])\n",
        "          \n",
        "house_prices_df.isna().sum()"
      ]
    },
    {
      "attachments": {},
      "cell_type": "markdown",
      "metadata": {},
      "source": [
        "Can see from the above figures that there are no significant changes in the distribution shapes."
      ]
    }
  ],
  "metadata": {
    "accelerator": "GPU",
    "colab": {
      "name": "Data Practitioner Jupyter Notebook.ipynb",
      "provenance": [],
      "toc_visible": true
    },
    "kernelspec": {
      "display_name": "Python 3",
      "language": "python",
      "name": "python3"
    },
    "language_info": {
      "codemirror_mode": {
        "name": "ipython",
        "version": 3
      },
      "file_extension": ".py",
      "mimetype": "text/x-python",
      "name": "python",
      "nbconvert_exporter": "python",
      "pygments_lexer": "ipython3",
      "version": "3.8.12"
    },
    "orig_nbformat": 2,
    "vscode": {
      "interpreter": {
        "hash": "8b8334dab9339717f727a1deaf837b322d7a41c20d15cc86be99a8e69ceec8ce"
      }
    }
  },
  "nbformat": 4,
  "nbformat_minor": 2
}

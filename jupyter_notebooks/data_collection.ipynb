{
  "cells": [
    {
      "attachments": {},
      "cell_type": "markdown",
      "metadata": {
        "id": "0aStgWSO0E0E"
      },
      "source": [
        "# **Data Collection**"
      ]
    },
    {
      "attachments": {},
      "cell_type": "markdown",
      "metadata": {
        "id": "1eLEkw5O0ECa"
      },
      "source": [
        "## Objectives\n",
        "\n",
        "* Fetch raw data from Kaggle.\n",
        "* Inspect datasets.\n",
        "* Save renamed copy of the raw house prices dataset.\n",
        "* Save renamed copy of the inherited houses dataset.\n",
        "\n",
        "## Inputs\n",
        "\n",
        "* kaggle JSON file\n",
        "\n",
        "## Outputs\n",
        "\n",
        "* renamed copy of raw house prices dataset: outputs/datasets/collection/housing_data.csv\n",
        "* renamed copy of the raw inherited houses dataset: outputs/datasets/collection/inherited_houses.csv"
      ]
    },
    {
      "cell_type": "markdown",
      "metadata": {
        "id": "9uWZXH9LwoQg"
      },
      "source": [
        "---"
      ]
    },
    {
      "attachments": {},
      "cell_type": "markdown",
      "metadata": {
        "id": "cqP-UeN-z3i2"
      },
      "source": [
        "## Change working directory"
      ]
    },
    {
      "attachments": {},
      "cell_type": "markdown",
      "metadata": {
        "id": "aOGIGS-uz3i2"
      },
      "source": [
        "Working directory changed to its parent folder."
      ]
    },
    {
      "cell_type": "code",
      "execution_count": 1,
      "metadata": {
        "id": "wZfF_j-Bz3i4",
        "outputId": "66943449-1436-4c3d-85c7-b85f9f78349b"
      },
      "outputs": [
        {
          "data": {
            "text/plain": [
              "'/workspace/heritage_housing_issues/jupyter_notebooks'"
            ]
          },
          "execution_count": 1,
          "metadata": {},
          "output_type": "execute_result"
        }
      ],
      "source": [
        "import os\n",
        "current_dir = os.getcwd()\n",
        "current_dir"
      ]
    },
    {
      "cell_type": "code",
      "execution_count": 2,
      "metadata": {
        "id": "TwHsQRWjz3i9",
        "outputId": "86849db3-cd2f-4cc5-ebb8-2d0caafa1a2c"
      },
      "outputs": [
        {
          "data": {
            "text/plain": [
              "'/workspace/heritage_housing_issues'"
            ]
          },
          "execution_count": 2,
          "metadata": {},
          "output_type": "execute_result"
        }
      ],
      "source": [
        "os.chdir(os.path.dirname(current_dir))\n",
        "os.getcwd()"
      ]
    },
    {
      "attachments": {},
      "cell_type": "markdown",
      "metadata": {
        "id": "-mavJ8DibrcQ"
      },
      "source": [
        "## Fetch Dataset from kaggle"
      ]
    },
    {
      "attachments": {},
      "cell_type": "markdown",
      "metadata": {},
      "source": [
        "The housing dataset located by the client is downloaded from kaggle, updating any existing copy of the dataset."
      ]
    },
    {
      "cell_type": "code",
      "execution_count": 3,
      "metadata": {},
      "outputs": [
        {
          "name": "stdout",
          "output_type": "stream",
          "text": [
            "Downloading housing-prices-data.zip to inputs/datasets/raw\n",
            "  0%|                                               | 0.00/49.6k [00:00<?, ?B/s]\n",
            "100%|██████████████████████████████████████| 49.6k/49.6k [00:00<00:00, 2.12MB/s]\n"
          ]
        }
      ],
      "source": [
        "import env\n",
        "\n",
        "KaggleDatasetPath = \"codeinstitute/housing-prices-data\"\n",
        "DestinationFolder = \"inputs/datasets/raw\"   \n",
        "! kaggle datasets download -d {KaggleDatasetPath} -p {DestinationFolder}"
      ]
    },
    {
      "cell_type": "code",
      "execution_count": 4,
      "metadata": {},
      "outputs": [
        {
          "name": "stdout",
          "output_type": "stream",
          "text": [
            "Archive:  inputs/datasets/raw/housing-prices-data.zip\n"
          ]
        }
      ],
      "source": [
        "! unzip -u {DestinationFolder}/*.zip -d {DestinationFolder} \\\n",
        "&& rm {DestinationFolder}/*.zip"
      ]
    },
    {
      "attachments": {},
      "cell_type": "markdown",
      "metadata": {},
      "source": [
        "## Load datasets and inspect"
      ]
    },
    {
      "attachments": {},
      "cell_type": "markdown",
      "metadata": {},
      "source": [
        "**House prices dataset:**"
      ]
    },
    {
      "cell_type": "code",
      "execution_count": 5,
      "metadata": {},
      "outputs": [
        {
          "name": "stdout",
          "output_type": "stream",
          "text": [
            "<class 'pandas.core.frame.DataFrame'>\n",
            "RangeIndex: 1460 entries, 0 to 1459\n",
            "Data columns (total 24 columns):\n",
            " #   Column         Non-Null Count  Dtype  \n",
            "---  ------         --------------  -----  \n",
            " 0   1stFlrSF       1460 non-null   int64  \n",
            " 1   2ndFlrSF       1374 non-null   float64\n",
            " 2   BedroomAbvGr   1361 non-null   float64\n",
            " 3   BsmtExposure   1460 non-null   object \n",
            " 4   BsmtFinSF1     1460 non-null   int64  \n",
            " 5   BsmtFinType1   1346 non-null   object \n",
            " 6   BsmtUnfSF      1460 non-null   int64  \n",
            " 7   EnclosedPorch  136 non-null    float64\n",
            " 8   GarageArea     1460 non-null   int64  \n",
            " 9   GarageFinish   1298 non-null   object \n",
            " 10  GarageYrBlt    1379 non-null   float64\n",
            " 11  GrLivArea      1460 non-null   int64  \n",
            " 12  KitchenQual    1460 non-null   object \n",
            " 13  LotArea        1460 non-null   int64  \n",
            " 14  LotFrontage    1201 non-null   float64\n",
            " 15  MasVnrArea     1452 non-null   float64\n",
            " 16  OpenPorchSF    1460 non-null   int64  \n",
            " 17  OverallCond    1460 non-null   int64  \n",
            " 18  OverallQual    1460 non-null   int64  \n",
            " 19  TotalBsmtSF    1460 non-null   int64  \n",
            " 20  WoodDeckSF     155 non-null    float64\n",
            " 21  YearBuilt      1460 non-null   int64  \n",
            " 22  YearRemodAdd   1460 non-null   int64  \n",
            " 23  SalePrice      1460 non-null   int64  \n",
            "dtypes: float64(7), int64(13), object(4)\n",
            "memory usage: 273.9+ KB\n"
          ]
        }
      ],
      "source": [
        "import pandas as pd\n",
        "\n",
        "house_prices_df = pd.read_csv(f\"inputs/datasets/raw/house-price-20211124T154130Z-001/house-price/house_prices_records.csv\")\n",
        "house_prices_df.info()"
      ]
    },
    {
      "attachments": {},
      "cell_type": "markdown",
      "metadata": {},
      "source": [
        "**Initial observations:**  \n",
        "The dataset has 24 columns consisting of three data types. Unsurprisingly not all instances have (valid) values for all columns."
      ]
    },
    {
      "cell_type": "markdown",
      "metadata": {
        "id": "ZY3l0-AxO93d"
      },
      "source": [
        "---"
      ]
    },
    {
      "cell_type": "code",
      "execution_count": 6,
      "metadata": {},
      "outputs": [
        {
          "data": {
            "text/html": [
              "<div>\n",
              "<style scoped>\n",
              "    .dataframe tbody tr th:only-of-type {\n",
              "        vertical-align: middle;\n",
              "    }\n",
              "\n",
              "    .dataframe tbody tr th {\n",
              "        vertical-align: top;\n",
              "    }\n",
              "\n",
              "    .dataframe thead th {\n",
              "        text-align: right;\n",
              "    }\n",
              "</style>\n",
              "<table border=\"1\" class=\"dataframe\">\n",
              "  <thead>\n",
              "    <tr style=\"text-align: right;\">\n",
              "      <th></th>\n",
              "      <th>1stFlrSF</th>\n",
              "      <th>2ndFlrSF</th>\n",
              "      <th>BedroomAbvGr</th>\n",
              "      <th>BsmtExposure</th>\n",
              "      <th>BsmtFinSF1</th>\n",
              "      <th>BsmtFinType1</th>\n",
              "      <th>BsmtUnfSF</th>\n",
              "      <th>EnclosedPorch</th>\n",
              "      <th>GarageArea</th>\n",
              "      <th>GarageFinish</th>\n",
              "      <th>...</th>\n",
              "      <th>LotFrontage</th>\n",
              "      <th>MasVnrArea</th>\n",
              "      <th>OpenPorchSF</th>\n",
              "      <th>OverallCond</th>\n",
              "      <th>OverallQual</th>\n",
              "      <th>TotalBsmtSF</th>\n",
              "      <th>WoodDeckSF</th>\n",
              "      <th>YearBuilt</th>\n",
              "      <th>YearRemodAdd</th>\n",
              "      <th>SalePrice</th>\n",
              "    </tr>\n",
              "  </thead>\n",
              "  <tbody>\n",
              "    <tr>\n",
              "      <th>0</th>\n",
              "      <td>856</td>\n",
              "      <td>854.0</td>\n",
              "      <td>3.0</td>\n",
              "      <td>No</td>\n",
              "      <td>706</td>\n",
              "      <td>GLQ</td>\n",
              "      <td>150</td>\n",
              "      <td>0.0</td>\n",
              "      <td>548</td>\n",
              "      <td>RFn</td>\n",
              "      <td>...</td>\n",
              "      <td>65.0</td>\n",
              "      <td>196.0</td>\n",
              "      <td>61</td>\n",
              "      <td>5</td>\n",
              "      <td>7</td>\n",
              "      <td>856</td>\n",
              "      <td>0.0</td>\n",
              "      <td>2003</td>\n",
              "      <td>2003</td>\n",
              "      <td>208500</td>\n",
              "    </tr>\n",
              "    <tr>\n",
              "      <th>1</th>\n",
              "      <td>1262</td>\n",
              "      <td>0.0</td>\n",
              "      <td>3.0</td>\n",
              "      <td>Gd</td>\n",
              "      <td>978</td>\n",
              "      <td>ALQ</td>\n",
              "      <td>284</td>\n",
              "      <td>NaN</td>\n",
              "      <td>460</td>\n",
              "      <td>RFn</td>\n",
              "      <td>...</td>\n",
              "      <td>80.0</td>\n",
              "      <td>0.0</td>\n",
              "      <td>0</td>\n",
              "      <td>8</td>\n",
              "      <td>6</td>\n",
              "      <td>1262</td>\n",
              "      <td>NaN</td>\n",
              "      <td>1976</td>\n",
              "      <td>1976</td>\n",
              "      <td>181500</td>\n",
              "    </tr>\n",
              "    <tr>\n",
              "      <th>2</th>\n",
              "      <td>920</td>\n",
              "      <td>866.0</td>\n",
              "      <td>3.0</td>\n",
              "      <td>Mn</td>\n",
              "      <td>486</td>\n",
              "      <td>GLQ</td>\n",
              "      <td>434</td>\n",
              "      <td>0.0</td>\n",
              "      <td>608</td>\n",
              "      <td>RFn</td>\n",
              "      <td>...</td>\n",
              "      <td>68.0</td>\n",
              "      <td>162.0</td>\n",
              "      <td>42</td>\n",
              "      <td>5</td>\n",
              "      <td>7</td>\n",
              "      <td>920</td>\n",
              "      <td>NaN</td>\n",
              "      <td>2001</td>\n",
              "      <td>2002</td>\n",
              "      <td>223500</td>\n",
              "    </tr>\n",
              "    <tr>\n",
              "      <th>3</th>\n",
              "      <td>961</td>\n",
              "      <td>NaN</td>\n",
              "      <td>NaN</td>\n",
              "      <td>No</td>\n",
              "      <td>216</td>\n",
              "      <td>ALQ</td>\n",
              "      <td>540</td>\n",
              "      <td>NaN</td>\n",
              "      <td>642</td>\n",
              "      <td>Unf</td>\n",
              "      <td>...</td>\n",
              "      <td>60.0</td>\n",
              "      <td>0.0</td>\n",
              "      <td>35</td>\n",
              "      <td>5</td>\n",
              "      <td>7</td>\n",
              "      <td>756</td>\n",
              "      <td>NaN</td>\n",
              "      <td>1915</td>\n",
              "      <td>1970</td>\n",
              "      <td>140000</td>\n",
              "    </tr>\n",
              "    <tr>\n",
              "      <th>4</th>\n",
              "      <td>1145</td>\n",
              "      <td>NaN</td>\n",
              "      <td>4.0</td>\n",
              "      <td>Av</td>\n",
              "      <td>655</td>\n",
              "      <td>GLQ</td>\n",
              "      <td>490</td>\n",
              "      <td>0.0</td>\n",
              "      <td>836</td>\n",
              "      <td>RFn</td>\n",
              "      <td>...</td>\n",
              "      <td>84.0</td>\n",
              "      <td>350.0</td>\n",
              "      <td>84</td>\n",
              "      <td>5</td>\n",
              "      <td>8</td>\n",
              "      <td>1145</td>\n",
              "      <td>NaN</td>\n",
              "      <td>2000</td>\n",
              "      <td>2000</td>\n",
              "      <td>250000</td>\n",
              "    </tr>\n",
              "  </tbody>\n",
              "</table>\n",
              "<p>5 rows × 24 columns</p>\n",
              "</div>"
            ],
            "text/plain": [
              "   1stFlrSF  2ndFlrSF  BedroomAbvGr BsmtExposure  BsmtFinSF1 BsmtFinType1  \\\n",
              "0       856     854.0           3.0           No         706          GLQ   \n",
              "1      1262       0.0           3.0           Gd         978          ALQ   \n",
              "2       920     866.0           3.0           Mn         486          GLQ   \n",
              "3       961       NaN           NaN           No         216          ALQ   \n",
              "4      1145       NaN           4.0           Av         655          GLQ   \n",
              "\n",
              "   BsmtUnfSF  EnclosedPorch  GarageArea GarageFinish  ...  LotFrontage  \\\n",
              "0        150            0.0         548          RFn  ...         65.0   \n",
              "1        284            NaN         460          RFn  ...         80.0   \n",
              "2        434            0.0         608          RFn  ...         68.0   \n",
              "3        540            NaN         642          Unf  ...         60.0   \n",
              "4        490            0.0         836          RFn  ...         84.0   \n",
              "\n",
              "   MasVnrArea OpenPorchSF  OverallCond  OverallQual  TotalBsmtSF  WoodDeckSF  \\\n",
              "0       196.0          61            5            7          856         0.0   \n",
              "1         0.0           0            8            6         1262         NaN   \n",
              "2       162.0          42            5            7          920         NaN   \n",
              "3         0.0          35            5            7          756         NaN   \n",
              "4       350.0          84            5            8         1145         NaN   \n",
              "\n",
              "   YearBuilt  YearRemodAdd  SalePrice  \n",
              "0       2003          2003     208500  \n",
              "1       1976          1976     181500  \n",
              "2       2001          2002     223500  \n",
              "3       1915          1970     140000  \n",
              "4       2000          2000     250000  \n",
              "\n",
              "[5 rows x 24 columns]"
            ]
          },
          "execution_count": 6,
          "metadata": {},
          "output_type": "execute_result"
        }
      ],
      "source": [
        "house_prices_df.head()"
      ]
    },
    {
      "attachments": {},
      "cell_type": "markdown",
      "metadata": {},
      "source": [
        "**Inherited houses dataset:**"
      ]
    },
    {
      "cell_type": "code",
      "execution_count": 7,
      "metadata": {},
      "outputs": [
        {
          "name": "stdout",
          "output_type": "stream",
          "text": [
            "<class 'pandas.core.frame.DataFrame'>\n",
            "RangeIndex: 4 entries, 0 to 3\n",
            "Data columns (total 23 columns):\n",
            " #   Column         Non-Null Count  Dtype  \n",
            "---  ------         --------------  -----  \n",
            " 0   1stFlrSF       4 non-null      int64  \n",
            " 1   2ndFlrSF       4 non-null      int64  \n",
            " 2   BedroomAbvGr   4 non-null      int64  \n",
            " 3   BsmtExposure   4 non-null      object \n",
            " 4   BsmtFinSF1     4 non-null      float64\n",
            " 5   BsmtFinType1   4 non-null      object \n",
            " 6   BsmtUnfSF      4 non-null      float64\n",
            " 7   EnclosedPorch  4 non-null      int64  \n",
            " 8   GarageArea     4 non-null      float64\n",
            " 9   GarageFinish   4 non-null      object \n",
            " 10  GarageYrBlt    4 non-null      float64\n",
            " 11  GrLivArea      4 non-null      int64  \n",
            " 12  KitchenQual    4 non-null      object \n",
            " 13  LotArea        4 non-null      int64  \n",
            " 14  LotFrontage    4 non-null      float64\n",
            " 15  MasVnrArea     4 non-null      float64\n",
            " 16  OpenPorchSF    4 non-null      int64  \n",
            " 17  OverallCond    4 non-null      int64  \n",
            " 18  OverallQual    4 non-null      int64  \n",
            " 19  TotalBsmtSF    4 non-null      float64\n",
            " 20  WoodDeckSF     4 non-null      int64  \n",
            " 21  YearBuilt      4 non-null      int64  \n",
            " 22  YearRemodAdd   4 non-null      int64  \n",
            "dtypes: float64(7), int64(12), object(4)\n",
            "memory usage: 864.0+ bytes\n"
          ]
        }
      ],
      "source": [
        "inherited_houses_df = pd.read_csv(f\"inputs/datasets/raw/house-price-20211124T154130Z-001/house-price/inherited_houses.csv\")\n",
        "inherited_houses_df.info()"
      ]
    },
    {
      "cell_type": "code",
      "execution_count": 8,
      "metadata": {},
      "outputs": [
        {
          "data": {
            "text/html": [
              "<div>\n",
              "<style scoped>\n",
              "    .dataframe tbody tr th:only-of-type {\n",
              "        vertical-align: middle;\n",
              "    }\n",
              "\n",
              "    .dataframe tbody tr th {\n",
              "        vertical-align: top;\n",
              "    }\n",
              "\n",
              "    .dataframe thead th {\n",
              "        text-align: right;\n",
              "    }\n",
              "</style>\n",
              "<table border=\"1\" class=\"dataframe\">\n",
              "  <thead>\n",
              "    <tr style=\"text-align: right;\">\n",
              "      <th></th>\n",
              "      <th>1stFlrSF</th>\n",
              "      <th>2ndFlrSF</th>\n",
              "      <th>BedroomAbvGr</th>\n",
              "      <th>BsmtExposure</th>\n",
              "      <th>BsmtFinSF1</th>\n",
              "      <th>BsmtFinType1</th>\n",
              "      <th>BsmtUnfSF</th>\n",
              "      <th>EnclosedPorch</th>\n",
              "      <th>GarageArea</th>\n",
              "      <th>GarageFinish</th>\n",
              "      <th>...</th>\n",
              "      <th>LotArea</th>\n",
              "      <th>LotFrontage</th>\n",
              "      <th>MasVnrArea</th>\n",
              "      <th>OpenPorchSF</th>\n",
              "      <th>OverallCond</th>\n",
              "      <th>OverallQual</th>\n",
              "      <th>TotalBsmtSF</th>\n",
              "      <th>WoodDeckSF</th>\n",
              "      <th>YearBuilt</th>\n",
              "      <th>YearRemodAdd</th>\n",
              "    </tr>\n",
              "  </thead>\n",
              "  <tbody>\n",
              "    <tr>\n",
              "      <th>0</th>\n",
              "      <td>896</td>\n",
              "      <td>0</td>\n",
              "      <td>2</td>\n",
              "      <td>No</td>\n",
              "      <td>468.0</td>\n",
              "      <td>Rec</td>\n",
              "      <td>270.0</td>\n",
              "      <td>0</td>\n",
              "      <td>730.0</td>\n",
              "      <td>Unf</td>\n",
              "      <td>...</td>\n",
              "      <td>11622</td>\n",
              "      <td>80.0</td>\n",
              "      <td>0.0</td>\n",
              "      <td>0</td>\n",
              "      <td>6</td>\n",
              "      <td>5</td>\n",
              "      <td>882.0</td>\n",
              "      <td>140</td>\n",
              "      <td>1961</td>\n",
              "      <td>1961</td>\n",
              "    </tr>\n",
              "    <tr>\n",
              "      <th>1</th>\n",
              "      <td>1329</td>\n",
              "      <td>0</td>\n",
              "      <td>3</td>\n",
              "      <td>No</td>\n",
              "      <td>923.0</td>\n",
              "      <td>ALQ</td>\n",
              "      <td>406.0</td>\n",
              "      <td>0</td>\n",
              "      <td>312.0</td>\n",
              "      <td>Unf</td>\n",
              "      <td>...</td>\n",
              "      <td>14267</td>\n",
              "      <td>81.0</td>\n",
              "      <td>108.0</td>\n",
              "      <td>36</td>\n",
              "      <td>6</td>\n",
              "      <td>6</td>\n",
              "      <td>1329.0</td>\n",
              "      <td>393</td>\n",
              "      <td>1958</td>\n",
              "      <td>1958</td>\n",
              "    </tr>\n",
              "    <tr>\n",
              "      <th>2</th>\n",
              "      <td>928</td>\n",
              "      <td>701</td>\n",
              "      <td>3</td>\n",
              "      <td>No</td>\n",
              "      <td>791.0</td>\n",
              "      <td>GLQ</td>\n",
              "      <td>137.0</td>\n",
              "      <td>0</td>\n",
              "      <td>482.0</td>\n",
              "      <td>Fin</td>\n",
              "      <td>...</td>\n",
              "      <td>13830</td>\n",
              "      <td>74.0</td>\n",
              "      <td>0.0</td>\n",
              "      <td>34</td>\n",
              "      <td>5</td>\n",
              "      <td>5</td>\n",
              "      <td>928.0</td>\n",
              "      <td>212</td>\n",
              "      <td>1997</td>\n",
              "      <td>1998</td>\n",
              "    </tr>\n",
              "    <tr>\n",
              "      <th>3</th>\n",
              "      <td>926</td>\n",
              "      <td>678</td>\n",
              "      <td>3</td>\n",
              "      <td>No</td>\n",
              "      <td>602.0</td>\n",
              "      <td>GLQ</td>\n",
              "      <td>324.0</td>\n",
              "      <td>0</td>\n",
              "      <td>470.0</td>\n",
              "      <td>Fin</td>\n",
              "      <td>...</td>\n",
              "      <td>9978</td>\n",
              "      <td>78.0</td>\n",
              "      <td>20.0</td>\n",
              "      <td>36</td>\n",
              "      <td>6</td>\n",
              "      <td>6</td>\n",
              "      <td>926.0</td>\n",
              "      <td>360</td>\n",
              "      <td>1998</td>\n",
              "      <td>1998</td>\n",
              "    </tr>\n",
              "  </tbody>\n",
              "</table>\n",
              "<p>4 rows × 23 columns</p>\n",
              "</div>"
            ],
            "text/plain": [
              "   1stFlrSF  2ndFlrSF  BedroomAbvGr BsmtExposure  BsmtFinSF1 BsmtFinType1  \\\n",
              "0       896         0             2           No       468.0          Rec   \n",
              "1      1329         0             3           No       923.0          ALQ   \n",
              "2       928       701             3           No       791.0          GLQ   \n",
              "3       926       678             3           No       602.0          GLQ   \n",
              "\n",
              "   BsmtUnfSF  EnclosedPorch  GarageArea GarageFinish  ...  LotArea  \\\n",
              "0      270.0              0       730.0          Unf  ...    11622   \n",
              "1      406.0              0       312.0          Unf  ...    14267   \n",
              "2      137.0              0       482.0          Fin  ...    13830   \n",
              "3      324.0              0       470.0          Fin  ...     9978   \n",
              "\n",
              "   LotFrontage MasVnrArea  OpenPorchSF  OverallCond  OverallQual  TotalBsmtSF  \\\n",
              "0         80.0        0.0            0            6            5        882.0   \n",
              "1         81.0      108.0           36            6            6       1329.0   \n",
              "2         74.0        0.0           34            5            5        928.0   \n",
              "3         78.0       20.0           36            6            6        926.0   \n",
              "\n",
              "   WoodDeckSF  YearBuilt  YearRemodAdd  \n",
              "0         140       1961          1961  \n",
              "1         393       1958          1958  \n",
              "2         212       1997          1998  \n",
              "3         360       1998          1998  \n",
              "\n",
              "[4 rows x 23 columns]"
            ]
          },
          "execution_count": 8,
          "metadata": {},
          "output_type": "execute_result"
        }
      ],
      "source": [
        "inherited_houses_df.head()"
      ]
    },
    {
      "attachments": {},
      "cell_type": "markdown",
      "metadata": {
        "id": "ltNetd085qHf"
      },
      "source": [
        "## Save outputs"
      ]
    },
    {
      "cell_type": "code",
      "execution_count": 9,
      "metadata": {
        "id": "aKlnIozA4eQO",
        "outputId": "fd09bc1f-adb1-4511-f6ce-492a6af570c0"
      },
      "outputs": [
        {
          "name": "stdout",
          "output_type": "stream",
          "text": [
            "[Errno 17] File exists: '/workspace/heritage_housing_issues/outputs/datasets/collection'\n"
          ]
        }
      ],
      "source": [
        "try:\n",
        "    path = os.path.join(os.getcwd(), 'outputs/datasets/collection')\n",
        "    os.makedirs(path)\n",
        "except Exception as e:\n",
        "  print(e)"
      ]
    },
    {
      "cell_type": "code",
      "execution_count": 10,
      "metadata": {},
      "outputs": [],
      "source": [
        "try:\n",
        "    house_prices_df.to_csv(os.path.join(path, 'house_prices.csv'))\n",
        "except Exception as e:\n",
        "    print(e)"
      ]
    },
    {
      "cell_type": "code",
      "execution_count": 12,
      "metadata": {},
      "outputs": [],
      "source": [
        "try:\n",
        "    inherited_houses_df.to_csv(os.path.join(path, 'inherited_houses.csv'))\n",
        "except Exception as e:\n",
        "    print(e)"
      ]
    }
  ],
  "metadata": {
    "accelerator": "GPU",
    "colab": {
      "name": "Data Practitioner Jupyter Notebook.ipynb",
      "provenance": [],
      "toc_visible": true
    },
    "interpreter": {
      "hash": "8b8334dab9339717f727a1deaf837b322d7a41c20d15cc86be99a8e69ceec8ce"
    },
    "kernelspec": {
      "display_name": "Python 3.8.12 64-bit ('3.8.12': pyenv)",
      "name": "python3"
    },
    "language_info": {
      "codemirror_mode": {
        "name": "ipython",
        "version": 3
      },
      "file_extension": ".py",
      "mimetype": "text/x-python",
      "name": "python",
      "nbconvert_exporter": "python",
      "pygments_lexer": "ipython3",
      "version": "3.8.12"
    },
    "orig_nbformat": 2
  },
  "nbformat": 4,
  "nbformat_minor": 2
}
